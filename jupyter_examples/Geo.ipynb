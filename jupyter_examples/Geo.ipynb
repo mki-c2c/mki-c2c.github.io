{
  "metadata": {
    "kernelspec": {
      "name": "python",
      "display_name": "Python (Pyodide)",
      "language": "python"
    },
    "language_info": {
      "codemirror_mode": {
        "name": "python",
        "version": 3
      },
      "file_extension": ".py",
      "mimetype": "text/x-python",
      "name": "python",
      "nbconvert_exporter": "python",
      "pygments_lexer": "ipython3",
      "version": "3.8"
    }
  },
  "nbformat_minor": 4,
  "nbformat": 4,
  "cells": [
    {
      "cell_type": "code",
      "source": "import shapely",
      "metadata": {
        "trusted": true
      },
      "outputs": [],
      "execution_count": 43
    },
    {
      "cell_type": "code",
      "source": "from shapely.geometry import Point",
      "metadata": {
        "trusted": true
      },
      "outputs": [],
      "execution_count": 44
    },
    {
      "cell_type": "code",
      "source": "point = Point(0.0, 0.0)",
      "metadata": {
        "trusted": true
      },
      "outputs": [],
      "execution_count": 45
    },
    {
      "cell_type": "code",
      "source": "buffer_polygon = point.buffer(5.0)",
      "metadata": {
        "trusted": true
      },
      "outputs": [],
      "execution_count": 46
    },
    {
      "cell_type": "code",
      "source": "print(buffer_polygon.area)",
      "metadata": {
        "trusted": true
      },
      "outputs": [
        {
          "name": "stdout",
          "text": "78.41371226364852\n",
          "output_type": "stream"
        }
      ],
      "execution_count": 47
    },
    {
      "cell_type": "code",
      "source": "buffer_polygon",
      "metadata": {
        "trusted": true
      },
      "outputs": [
        {
          "execution_count": 48,
          "output_type": "execute_result",
          "data": {
            "text/plain": "<POLYGON ((5 0, 4.976 -0.49, 4.904 -0.975, 4.785 -1.451, 4.619 -1.913, 4.41 ...>",
            "image/svg+xml": "<svg xmlns=\"http://www.w3.org/2000/svg\" xmlns:xlink=\"http://www.w3.org/1999/xlink\" width=\"100.0\" height=\"100.0\" viewBox=\"-5.4 -5.4 10.8 10.8\" preserveAspectRatio=\"xMinYMin meet\"><g transform=\"matrix(1,0,0,-1,0,0.0)\"><path fill-rule=\"evenodd\" fill=\"#66cc99\" stroke=\"#555555\" stroke-width=\"0.21600000000000003\" opacity=\"0.6\" d=\"M 5.0,0.0 L 4.975923633360985,-0.490085701647803 L 4.903926402016152,-0.9754516100806412 L 4.784701678661044,-1.4514233862723116 L 4.619397662556434,-1.913417161825449 L 4.409606321741776,-2.3569836841299883 L 4.157348061512726,-2.777851165098011 L 3.865052266813685,-3.1719664208182277 L 3.5355339059327378,-3.5355339059327373 L 3.1719664208182277,-3.8650522668136844 L 2.7778511650980113,-4.157348061512726 L 2.356983684129989,-4.409606321741775 L 1.9134171618254492,-4.619397662556434 L 1.4514233862723116,-4.784701678661045 L 0.9754516100806416,-4.903926402016152 L 0.49008570164780385,-4.975923633360984 L 3.061616997868383e-16,-5.0 L -0.49008570164780324,-4.975923633360985 L -0.975451610080641,-4.903926402016152 L -1.4514233862723107,-4.784701678661045 L -1.9134171618254485,-4.619397662556434 L -2.3569836841299887,-4.409606321741776 L -2.77785116509801,-4.157348061512726 L -3.1719664208182268,-3.8650522668136853 L -3.5355339059327373,-3.5355339059327378 L -3.865052266813685,-3.1719664208182277 L -4.157348061512726,-2.777851165098011 L -4.409606321741775,-2.356983684129989 L -4.619397662556434,-1.9134171618254494 L -4.784701678661044,-1.451423386272312 L -4.903926402016152,-0.9754516100806431 L -4.975923633360984,-0.49008570164780413 L -5.0,-6.123233995736766e-16 L -4.975923633360985,0.49008570164780296 L -4.903926402016152,0.9754516100806419 L -4.784701678661045,1.4514233862723105 L -4.619397662556434,1.9134171618254483 L -4.409606321741776,2.3569836841299883 L -4.157348061512727,2.77785116509801 L -3.8650522668136853,3.1719664208182263 L -3.5355339059327386,3.5355339059327373 L -3.1719664208182294,3.8650522668136835 L -2.777851165098011,4.157348061512726 L -2.3569836841299896,4.409606321741775 L -1.9134171618254516,4.619397662556432 L -1.4514233862723123,4.784701678661044 L -0.9754516100806433,4.903926402016151 L -0.49008570164780224,4.975923633360985 L -9.184850993605148e-16,5.0 L 0.49008570164780046,4.975923633360985 L 0.9754516100806415,4.903926402016152 L 1.4514233862723103,4.784701678661045 L 1.91341716182545,4.619397662556433 L 2.356983684129988,4.409606321741776 L 2.777851165098009,4.157348061512727 L 3.171966420818228,3.8650522668136844 L 3.535533905932737,3.5355339059327386 L 3.8650522668136826,3.1719664208182294 L 4.157348061512726,2.777851165098011 L 4.409606321741774,2.3569836841299896 L 4.619397662556432,1.913417161825452 L 4.784701678661044,1.4514233862723125 L 4.903926402016151,0.9754516100806436 L 4.975923633360985,0.4900857016478025 L 5.0,0.0 z\" /></g></svg>"
          },
          "metadata": {}
        }
      ],
      "execution_count": 48
    },
    {
      "cell_type": "code",
      "source": "buffer_polygon.is_simple",
      "metadata": {
        "trusted": true
      },
      "outputs": [
        {
          "execution_count": 49,
          "output_type": "execute_result",
          "data": {
            "text/plain": "True"
          },
          "metadata": {}
        }
      ],
      "execution_count": 49
    },
    {
      "cell_type": "code",
      "source": "buffer_polygon.boundary",
      "metadata": {
        "trusted": true
      },
      "outputs": [
        {
          "execution_count": 50,
          "output_type": "execute_result",
          "data": {
            "text/plain": "<LINESTRING (5 0, 4.976 -0.49, 4.904 -0.975, 4.785 -1.451, 4.619 -1.913, 4.4...>",
            "image/svg+xml": "<svg xmlns=\"http://www.w3.org/2000/svg\" xmlns:xlink=\"http://www.w3.org/1999/xlink\" width=\"100.0\" height=\"100.0\" viewBox=\"-5.4 -5.4 10.8 10.8\" preserveAspectRatio=\"xMinYMin meet\"><g transform=\"matrix(1,0,0,-1,0,0.0)\"><polyline fill=\"none\" stroke=\"#66cc99\" stroke-width=\"0.21600000000000003\" points=\"5.0,0.0 4.975923633360985,-0.490085701647803 4.903926402016152,-0.9754516100806412 4.784701678661044,-1.4514233862723116 4.619397662556434,-1.913417161825449 4.409606321741776,-2.3569836841299883 4.157348061512726,-2.777851165098011 3.865052266813685,-3.1719664208182277 3.5355339059327378,-3.5355339059327373 3.1719664208182277,-3.8650522668136844 2.7778511650980113,-4.157348061512726 2.356983684129989,-4.409606321741775 1.9134171618254492,-4.619397662556434 1.4514233862723116,-4.784701678661045 0.9754516100806416,-4.903926402016152 0.49008570164780385,-4.975923633360984 3.061616997868383e-16,-5.0 -0.49008570164780324,-4.975923633360985 -0.975451610080641,-4.903926402016152 -1.4514233862723107,-4.784701678661045 -1.9134171618254485,-4.619397662556434 -2.3569836841299887,-4.409606321741776 -2.77785116509801,-4.157348061512726 -3.1719664208182268,-3.8650522668136853 -3.5355339059327373,-3.5355339059327378 -3.865052266813685,-3.1719664208182277 -4.157348061512726,-2.777851165098011 -4.409606321741775,-2.356983684129989 -4.619397662556434,-1.9134171618254494 -4.784701678661044,-1.451423386272312 -4.903926402016152,-0.9754516100806431 -4.975923633360984,-0.49008570164780413 -5.0,-6.123233995736766e-16 -4.975923633360985,0.49008570164780296 -4.903926402016152,0.9754516100806419 -4.784701678661045,1.4514233862723105 -4.619397662556434,1.9134171618254483 -4.409606321741776,2.3569836841299883 -4.157348061512727,2.77785116509801 -3.8650522668136853,3.1719664208182263 -3.5355339059327386,3.5355339059327373 -3.1719664208182294,3.8650522668136835 -2.777851165098011,4.157348061512726 -2.3569836841299896,4.409606321741775 -1.9134171618254516,4.619397662556432 -1.4514233862723123,4.784701678661044 -0.9754516100806433,4.903926402016151 -0.49008570164780224,4.975923633360985 -9.184850993605148e-16,5.0 0.49008570164780046,4.975923633360985 0.9754516100806415,4.903926402016152 1.4514233862723103,4.784701678661045 1.91341716182545,4.619397662556433 2.356983684129988,4.409606321741776 2.777851165098009,4.157348061512727 3.171966420818228,3.8650522668136844 3.535533905932737,3.5355339059327386 3.8650522668136826,3.1719664208182294 4.157348061512726,2.777851165098011 4.409606321741774,2.3569836841299896 4.619397662556432,1.913417161825452 4.784701678661044,1.4514233862723125 4.903926402016151,0.9754516100806436 4.975923633360985,0.4900857016478025 5.0,0.0\" opacity=\"0.8\" /></g></svg>"
          },
          "metadata": {}
        }
      ],
      "execution_count": 50
    },
    {
      "cell_type": "code",
      "source": "buffer_polygon.boundary.is_ring",
      "metadata": {
        "trusted": true
      },
      "outputs": [
        {
          "execution_count": 51,
          "output_type": "execute_result",
          "data": {
            "text/plain": "True"
          },
          "metadata": {}
        }
      ],
      "execution_count": 51
    },
    {
      "cell_type": "code",
      "source": "buffer_polygon.boundary.is_closed",
      "metadata": {
        "trusted": true
      },
      "outputs": [
        {
          "execution_count": 52,
          "output_type": "execute_result",
          "data": {
            "text/plain": "True"
          },
          "metadata": {}
        }
      ],
      "execution_count": 52
    },
    {
      "cell_type": "code",
      "source": "import math",
      "metadata": {
        "trusted": true
      },
      "outputs": [],
      "execution_count": 53
    },
    {
      "cell_type": "code",
      "source": "star = shapely.geometry.Polygon([(math.cos(a), math.sin(a)) for a in (a*3/5*math.pi*2 for a in range(5))])",
      "metadata": {
        "trusted": true
      },
      "outputs": [],
      "execution_count": 54
    },
    {
      "cell_type": "code",
      "source": "star",
      "metadata": {
        "trusted": true
      },
      "outputs": [
        {
          "execution_count": 55,
          "output_type": "execute_result",
          "data": {
            "text/plain": "<POLYGON ((1 0, -0.809 -0.588, 0.309 0.951, 0.309 -0.951, -0.809 0.588, 1 0))>",
            "image/svg+xml": "<svg xmlns=\"http://www.w3.org/2000/svg\" xmlns:xlink=\"http://www.w3.org/1999/xlink\" width=\"100.0\" height=\"100.0\" viewBox=\"-0.8851015156785598 -1.027141037598766 1.961186036982172 2.0542820751975315\" preserveAspectRatio=\"xMinYMin meet\"><g transform=\"matrix(1,0,0,-1,0,-2.220446049250313e-16)\"><path fill-rule=\"evenodd\" fill=\"#ff3333\" stroke=\"#555555\" stroke-width=\"0.04108564150395063\" opacity=\"0.6\" d=\"M 1.0,0.0 L -0.8090169943749475,-0.587785252292473 L 0.30901699437494773,0.9510565162951535 L 0.309016994374947,-0.9510565162951538 L -0.8090169943749471,0.5877852522924736 L 1.0,0.0 z\" /></g></svg>"
          },
          "metadata": {}
        }
      ],
      "execution_count": 55
    },
    {
      "cell_type": "code",
      "source": "star.convex_hull",
      "metadata": {
        "trusted": true
      },
      "outputs": [
        {
          "execution_count": 56,
          "output_type": "execute_result",
          "data": {
            "text/plain": "<POLYGON ((0.309 -0.951, -0.809 -0.588, -0.809 0.588, 0.309 0.951, 1 0, 0.30...>",
            "image/svg+xml": "<svg xmlns=\"http://www.w3.org/2000/svg\" xmlns:xlink=\"http://www.w3.org/1999/xlink\" width=\"100.0\" height=\"100.0\" viewBox=\"-0.8851015156785598 -1.027141037598766 1.961186036982172 2.0542820751975315\" preserveAspectRatio=\"xMinYMin meet\"><g transform=\"matrix(1,0,0,-1,0,-2.220446049250313e-16)\"><path fill-rule=\"evenodd\" fill=\"#66cc99\" stroke=\"#555555\" stroke-width=\"0.04108564150395063\" opacity=\"0.6\" d=\"M 0.309016994374947,-0.9510565162951538 L -0.8090169943749475,-0.587785252292473 L -0.8090169943749471,0.5877852522924736 L 0.30901699437494773,0.9510565162951535 L 1.0,0.0 L 0.309016994374947,-0.9510565162951538 z\" /></g></svg>"
          },
          "metadata": {}
        }
      ],
      "execution_count": 56
    },
    {
      "cell_type": "code",
      "source": "star.is_empty",
      "metadata": {
        "trusted": true
      },
      "outputs": [
        {
          "execution_count": 57,
          "output_type": "execute_result",
          "data": {
            "text/plain": "False"
          },
          "metadata": {}
        }
      ],
      "execution_count": 57
    },
    {
      "cell_type": "code",
      "source": "star.is_simple",
      "metadata": {
        "trusted": true
      },
      "outputs": [
        {
          "execution_count": 58,
          "output_type": "execute_result",
          "data": {
            "text/plain": "False"
          },
          "metadata": {}
        }
      ],
      "execution_count": 58
    },
    {
      "cell_type": "code",
      "source": "star.is_valid",
      "metadata": {
        "trusted": true
      },
      "outputs": [
        {
          "execution_count": 59,
          "output_type": "execute_result",
          "data": {
            "text/plain": "False"
          },
          "metadata": {}
        }
      ],
      "execution_count": 59
    },
    {
      "cell_type": "code",
      "source": "shapely.is_valid_reason(star)",
      "metadata": {
        "trusted": true
      },
      "outputs": [
        {
          "execution_count": 60,
          "output_type": "execute_result",
          "data": {
            "text/plain": "'Self-intersection[-0.118033988749895 0.363271264002681]'"
          },
          "metadata": {}
        }
      ],
      "execution_count": 60
    },
    {
      "cell_type": "code",
      "source": "shapely.make_valid(star)",
      "metadata": {
        "trusted": true
      },
      "outputs": [
        {
          "execution_count": 61,
          "output_type": "execute_result",
          "data": {
            "text/plain": "<MULTIPOLYGON (((-0.809 -0.588, -0.382 0, -0.118 -0.363, -0.809 -0.588)), ((...>",
            "image/svg+xml": "<svg xmlns=\"http://www.w3.org/2000/svg\" xmlns:xlink=\"http://www.w3.org/1999/xlink\" width=\"100.0\" height=\"100.0\" viewBox=\"-0.8851015156785598 -1.027141037598766 1.961186036982172 2.0542820751975315\" preserveAspectRatio=\"xMinYMin meet\"><g transform=\"matrix(1,0,0,-1,0,-2.220446049250313e-16)\"><g><path fill-rule=\"evenodd\" fill=\"#66cc99\" stroke=\"#555555\" stroke-width=\"0.04108564150395063\" opacity=\"0.6\" d=\"M -0.8090169943749475,-0.587785252292473 L -0.381966011250105,5.170096812723179e-17 L -0.11803398874989499,-0.3632712640026804 L -0.8090169943749475,-0.587785252292473 z\" /><path fill-rule=\"evenodd\" fill=\"#66cc99\" stroke=\"#555555\" stroke-width=\"0.04108564150395063\" opacity=\"0.6\" d=\"M -0.8090169943749471,0.5877852522924736 L -0.11803398874989451,0.36327126400268067 L -0.381966011250105,5.170096812723179e-17 L -0.8090169943749471,0.5877852522924736 z\" /><path fill-rule=\"evenodd\" fill=\"#66cc99\" stroke=\"#555555\" stroke-width=\"0.04108564150395063\" opacity=\"0.6\" d=\"M 0.30901699437494773,0.9510565162951535 L 0.30901699437494745,0.22451398828979288 L -0.11803398874989451,0.36327126400268067 L 0.30901699437494773,0.9510565162951535 z\" /><path fill-rule=\"evenodd\" fill=\"#66cc99\" stroke=\"#555555\" stroke-width=\"0.04108564150395063\" opacity=\"0.6\" d=\"M 1.0,0.0 L 0.3090169943749473,-0.22451398828979266 L 0.30901699437494745,0.22451398828979288 L 1.0,0.0 z\" /><path fill-rule=\"evenodd\" fill=\"#66cc99\" stroke=\"#555555\" stroke-width=\"0.04108564150395063\" opacity=\"0.6\" d=\"M 0.309016994374947,-0.9510565162951538 L -0.11803398874989499,-0.3632712640026804 L 0.3090169943749473,-0.22451398828979266 L 0.309016994374947,-0.9510565162951538 z\" /></g></g></svg>"
          },
          "metadata": {}
        }
      ],
      "execution_count": 61
    },
    {
      "cell_type": "code",
      "source": "star = shapely.make_valid(star)",
      "metadata": {
        "trusted": true
      },
      "outputs": [],
      "execution_count": 62
    },
    {
      "cell_type": "code",
      "source": "buffer_polygon.difference?",
      "metadata": {
        "trusted": true
      },
      "outputs": [
        {
          "name": "stdout",
          "text": "\u001b[0;31mSignature:\u001b[0m \u001b[0mbuffer_polygon\u001b[0m\u001b[0;34m.\u001b[0m\u001b[0mdifference\u001b[0m\u001b[0;34m(\u001b[0m\u001b[0mother\u001b[0m\u001b[0;34m,\u001b[0m \u001b[0mgrid_size\u001b[0m\u001b[0;34m=\u001b[0m\u001b[0;32mNone\u001b[0m\u001b[0;34m)\u001b[0m\u001b[0;34m\u001b[0m\u001b[0;34m\u001b[0m\u001b[0m\n\u001b[0;31mDocstring:\u001b[0m\nReturns the difference of the geometries.\n\nRefer to `shapely.difference` for full documentation.\n\u001b[0;31mFile:\u001b[0m      /lib/python3.12/site-packages/shapely/geometry/base.py\n\u001b[0;31mType:\u001b[0m      method\n",
          "output_type": "stream"
        }
      ],
      "execution_count": 63
    },
    {
      "cell_type": "code",
      "source": "buffer_polygon.difference(star)",
      "metadata": {
        "trusted": true
      },
      "outputs": [
        {
          "execution_count": 64,
          "output_type": "execute_result",
          "data": {
            "text/plain": "<MULTIPOLYGON (((4.976 -0.49, 4.904 -0.975, 4.785 -1.451, 4.619 -1.913, 4.41...>",
            "image/svg+xml": "<svg xmlns=\"http://www.w3.org/2000/svg\" xmlns:xlink=\"http://www.w3.org/1999/xlink\" width=\"100.0\" height=\"100.0\" viewBox=\"-5.4 -5.4 10.8 10.8\" preserveAspectRatio=\"xMinYMin meet\"><g transform=\"matrix(1,0,0,-1,0,0.0)\"><g><path fill-rule=\"evenodd\" fill=\"#66cc99\" stroke=\"#555555\" stroke-width=\"0.21600000000000003\" opacity=\"0.6\" d=\"M 4.975923633360985,-0.490085701647803 L 4.903926402016152,-0.9754516100806412 L 4.784701678661044,-1.4514233862723116 L 4.619397662556434,-1.913417161825449 L 4.409606321741776,-2.3569836841299883 L 4.157348061512726,-2.777851165098011 L 3.865052266813685,-3.1719664208182277 L 3.5355339059327378,-3.5355339059327373 L 3.1719664208182277,-3.8650522668136844 L 2.7778511650980113,-4.157348061512726 L 2.356983684129989,-4.409606321741775 L 1.9134171618254492,-4.619397662556434 L 1.4514233862723116,-4.784701678661045 L 0.9754516100806416,-4.903926402016152 L 0.49008570164780385,-4.975923633360984 L 3.061616997868383e-16,-5.0 L -0.49008570164780324,-4.975923633360985 L -0.975451610080641,-4.903926402016152 L -1.4514233862723107,-4.784701678661045 L -1.9134171618254485,-4.619397662556434 L -2.3569836841299887,-4.409606321741776 L -2.77785116509801,-4.157348061512726 L -3.1719664208182268,-3.8650522668136853 L -3.5355339059327373,-3.5355339059327378 L -3.865052266813685,-3.1719664208182277 L -4.157348061512726,-2.777851165098011 L -4.409606321741775,-2.356983684129989 L -4.619397662556434,-1.9134171618254494 L -4.784701678661044,-1.451423386272312 L -4.903926402016152,-0.9754516100806431 L -4.975923633360984,-0.49008570164780413 L -5.0,-6.123233995736766e-16 L -4.975923633360985,0.49008570164780296 L -4.903926402016152,0.9754516100806419 L -4.784701678661045,1.4514233862723105 L -4.619397662556434,1.9134171618254483 L -4.409606321741776,2.3569836841299883 L -4.157348061512727,2.77785116509801 L -3.8650522668136853,3.1719664208182263 L -3.5355339059327386,3.5355339059327373 L -3.1719664208182294,3.8650522668136835 L -2.777851165098011,4.157348061512726 L -2.3569836841299896,4.409606321741775 L -1.9134171618254516,4.619397662556432 L -1.4514233862723123,4.784701678661044 L -0.9754516100806433,4.903926402016151 L -0.49008570164780224,4.975923633360985 L -9.184850993605148e-16,5.0 L 0.49008570164780046,4.975923633360985 L 0.9754516100806415,4.903926402016152 L 1.4514233862723103,4.784701678661045 L 1.91341716182545,4.619397662556433 L 2.356983684129988,4.409606321741776 L 2.777851165098009,4.157348061512727 L 3.171966420818228,3.8650522668136844 L 3.535533905932737,3.5355339059327386 L 3.8650522668136826,3.1719664208182294 L 4.157348061512726,2.777851165098011 L 4.409606321741774,2.3569836841299896 L 4.619397662556432,1.913417161825452 L 4.784701678661044,1.4514233862723125 L 4.903926402016151,0.9754516100806436 L 4.975923633360985,0.4900857016478025 L 5.0,0.0 L 4.975923633360985,-0.490085701647803 z M -0.8090169943749475,-0.587785252292473 L -0.11803398874989499,-0.3632712640026804 L 0.309016994374947,-0.9510565162951538 L 0.3090169943749473,-0.22451398828979266 L 1.0,0.0 L 0.30901699437494745,0.22451398828979288 L 0.30901699437494773,0.9510565162951535 L -0.11803398874989451,0.36327126400268067 L -0.8090169943749471,0.5877852522924736 L -0.381966011250105,5.170096812723179e-17 L -0.8090169943749475,-0.587785252292473 z\" /><path fill-rule=\"evenodd\" fill=\"#66cc99\" stroke=\"#555555\" stroke-width=\"0.21600000000000003\" opacity=\"0.6\" d=\"M -0.381966011250105,5.170096812723179e-17 L -0.11803398874989451,0.36327126400268067 L 0.30901699437494745,0.22451398828979288 L 0.3090169943749473,-0.22451398828979266 L -0.11803398874989499,-0.3632712640026804 L -0.381966011250105,5.170096812723179e-17 z\" /></g></g></svg>"
          },
          "metadata": {}
        }
      ],
      "execution_count": 64
    },
    {
      "cell_type": "code",
      "source": "import geopandas as gp",
      "metadata": {
        "trusted": true
      },
      "outputs": [],
      "execution_count": 65
    },
    {
      "cell_type": "code",
      "source": "%pip install matplotlib",
      "metadata": {
        "trusted": true
      },
      "outputs": [],
      "execution_count": 66
    },
    {
      "cell_type": "code",
      "source": "shapely.affinity.affine_transform?",
      "metadata": {
        "trusted": true
      },
      "outputs": [
        {
          "name": "stdout",
          "text": "\u001b[0;31mSignature:\u001b[0m \u001b[0mshapely\u001b[0m\u001b[0;34m.\u001b[0m\u001b[0maffinity\u001b[0m\u001b[0;34m.\u001b[0m\u001b[0maffine_transform\u001b[0m\u001b[0;34m(\u001b[0m\u001b[0mgeom\u001b[0m\u001b[0;34m,\u001b[0m \u001b[0mmatrix\u001b[0m\u001b[0;34m)\u001b[0m\u001b[0;34m\u001b[0m\u001b[0;34m\u001b[0m\u001b[0m\n\u001b[0;31mDocstring:\u001b[0m\nReturn a transformed geometry using an affine transformation matrix.\n\nThe coefficient matrix is provided as a list or tuple with 6 or 12 items\nfor 2D or 3D transformations, respectively.\n\nFor 2D affine transformations, the 6 parameter matrix is::\n\n    [a, b, d, e, xoff, yoff]\n\nwhich represents the augmented matrix::\n\n    [x']   / a  b xoff \\ [x]\n    [y'] = | d  e yoff | [y]\n    [1 ]   \\ 0  0   1  / [1]\n\nor the equations for the transformed coordinates::\n\n    x' = a * x + b * y + xoff\n    y' = d * x + e * y + yoff\n\nFor 3D affine transformations, the 12 parameter matrix is::\n\n    [a, b, c, d, e, f, g, h, i, xoff, yoff, zoff]\n\nwhich represents the augmented matrix::\n\n    [x']   / a  b  c xoff \\ [x]\n    [y'] = | d  e  f yoff | [y]\n    [z']   | g  h  i zoff | [z]\n    [1 ]   \\ 0  0  0   1  / [1]\n\nor the equations for the transformed coordinates::\n\n    x' = a * x + b * y + c * z + xoff\n    y' = d * x + e * y + f * z + yoff\n    z' = g * x + h * y + i * z + zoff\n\u001b[0;31mFile:\u001b[0m      /lib/python3.12/site-packages/shapely/affinity.py\n\u001b[0;31mType:\u001b[0m      function\n",
          "output_type": "stream"
        }
      ],
      "execution_count": 67
    },
    {
      "cell_type": "code",
      "source": "gdf = gp.GeoDataFrame(geometry=[buffer_polygon, shapely.affinity.affine_transform(star, [3, 0, 0, 3, 4, 3])])",
      "metadata": {
        "trusted": true
      },
      "outputs": [],
      "execution_count": 68
    },
    {
      "cell_type": "code",
      "source": "gdf.plot()",
      "metadata": {
        "trusted": true
      },
      "outputs": [
        {
          "execution_count": 69,
          "output_type": "execute_result",
          "data": {
            "text/plain": "<AxesSubplot:>"
          },
          "metadata": {}
        },
        {
          "output_type": "display_data",
          "data": {
            "text/plain": "<Figure size 640x480 with 1 Axes>",
            "image/png": "[encoded data removed]"
          },
          "metadata": {}
        }
      ],
      "execution_count": 69
    },
    {
      "cell_type": "code",
      "source": "gdf.unary_union",
      "metadata": {
        "trusted": true
      },
      "outputs": [
        {
          "execution_count": 70,
          "output_type": "execute_result",
          "data": {
            "text/plain": "<MULTIPOLYGON (((4.904 -0.975, 4.785 -1.451, 4.619 -1.913, 4.41 -2.357, 4.15...>",
            "image/svg+xml": "<svg xmlns=\"http://www.w3.org/2000/svg\" xmlns:xlink=\"http://www.w3.org/1999/xlink\" width=\"100.0\" height=\"100.0\" viewBox=\"-5.48 -5.48 12.96 11.813169548885462\" preserveAspectRatio=\"xMinYMin meet\"><g transform=\"matrix(1,0,0,-1,0,0.8531695488854609)\"><g><path fill-rule=\"evenodd\" fill=\"#66cc99\" stroke=\"#555555\" stroke-width=\"0.25920000000000004\" opacity=\"0.6\" d=\"M 4.903926402016152,-0.9754516100806412 L 4.784701678661044,-1.4514233862723116 L 4.619397662556434,-1.913417161825449 L 4.409606321741776,-2.3569836841299883 L 4.157348061512726,-2.777851165098011 L 3.865052266813685,-3.1719664208182277 L 3.5355339059327378,-3.5355339059327373 L 3.1719664208182277,-3.8650522668136844 L 2.7778511650980113,-4.157348061512726 L 2.356983684129989,-4.409606321741775 L 1.9134171618254492,-4.619397662556434 L 1.4514233862723116,-4.784701678661045 L 0.9754516100806416,-4.903926402016152 L 0.49008570164780385,-4.975923633360984 L 3.061616997868383e-16,-5.0 L -0.49008570164780324,-4.975923633360985 L -0.975451610080641,-4.903926402016152 L -1.4514233862723107,-4.784701678661045 L -1.9134171618254485,-4.619397662556434 L -2.3569836841299887,-4.409606321741776 L -2.77785116509801,-4.157348061512726 L -3.1719664208182268,-3.8650522668136853 L -3.5355339059327373,-3.5355339059327378 L -3.865052266813685,-3.1719664208182277 L -4.157348061512726,-2.777851165098011 L -4.409606321741775,-2.356983684129989 L -4.619397662556434,-1.9134171618254494 L -4.784701678661044,-1.451423386272312 L -4.903926402016152,-0.9754516100806431 L -4.975923633360984,-0.49008570164780413 L -5.0,-6.123233995736766e-16 L -4.975923633360985,0.49008570164780296 L -4.903926402016152,0.9754516100806419 L -4.784701678661045,1.4514233862723105 L -4.619397662556434,1.9134171618254483 L -4.409606321741776,2.3569836841299883 L -4.157348061512727,2.77785116509801 L -3.8650522668136853,3.1719664208182263 L -3.5355339059327386,3.5355339059327373 L -3.1719664208182294,3.8650522668136835 L -2.777851165098011,4.157348061512726 L -2.3569836841299896,4.409606321741775 L -1.9134171618254516,4.619397662556432 L -1.4514233862723123,4.784701678661044 L -0.9754516100806433,4.903926402016151 L -0.49008570164780224,4.975923633360985 L -9.184850993605148e-16,5.0 L 0.49008570164780046,4.975923633360985 L 0.9754516100806415,4.903926402016152 L 1.4514233862723103,4.784701678661045 L 1.594681945791777,4.733442946437703 L 1.5729490168751585,4.763355756877421 L 3.6458980337503166,4.089813792008042 L 3.3592638887278228,3.695295737009369 L 3.535533905932737,3.5355339059327386 L 3.8650522668136826,3.1719664208182294 L 4.157348061512726,2.777851165098011 L 4.409606321741774,2.3569836841299896 L 4.491047034394838,2.1847917645529216 L 4.9270509831248415,2.326458035130622 L 4.9270509831248415,0.8195583471412522 L 4.975923633360985,0.4900857016478025 L 5.0,0.0 L 4.975923633360985,-0.490085701647803 L 4.903926402016152,-0.9754516100806412 z\" /><path fill-rule=\"evenodd\" fill=\"#66cc99\" stroke=\"#555555\" stroke-width=\"0.25920000000000004\" opacity=\"0.6\" d=\"M 4.927050983124842,3.673541964869379 L 7.0,3.0 L 4.9270509831248415,2.326458035130622 L 4.927050983124842,3.673541964869379 z\" /><path fill-rule=\"evenodd\" fill=\"#66cc99\" stroke=\"#555555\" stroke-width=\"0.25920000000000004\" opacity=\"0.6\" d=\"M 4.927050983124843,5.853169548885461 L 4.927050983124842,3.673541964869379 L 3.6458980337503166,4.089813792008042 L 4.927050983124843,5.853169548885461 z\" /></g></g></svg>"
          },
          "metadata": {}
        }
      ],
      "execution_count": 70
    },
    {
      "cell_type": "code",
      "source": "import shapely.geos",
      "metadata": {
        "trusted": true
      },
      "outputs": [],
      "execution_count": 71
    },
    {
      "cell_type": "code",
      "source": "shapely.geos.geos_capi_version",
      "metadata": {
        "trusted": true
      },
      "outputs": [
        {
          "execution_count": 72,
          "output_type": "execute_result",
          "data": {
            "text/plain": "(1, 18, 1)"
          },
          "metadata": {}
        }
      ],
      "execution_count": 72
    },
    {
      "cell_type": "code",
      "source": "shapely.__version__",
      "metadata": {
        "trusted": true
      },
      "outputs": [
        {
          "execution_count": 73,
          "output_type": "execute_result",
          "data": {
            "text/plain": "'2.0.2'"
          },
          "metadata": {}
        }
      ],
      "execution_count": 73
    },
    {
      "cell_type": "code",
      "source": "shapely.geos_version_string",
      "metadata": {
        "trusted": true
      },
      "outputs": [
        {
          "execution_count": 74,
          "output_type": "execute_result",
          "data": {
            "text/plain": "'3.12.1'"
          },
          "metadata": {}
        }
      ],
      "execution_count": 74
    },
    {
      "cell_type": "code",
      "source": "shapely.geometry.box(0,0,2, 1).intersection(shapely.geometry.box(1, .5,3, 5))",
      "metadata": {
        "trusted": true
      },
      "outputs": [
        {
          "execution_count": 78,
          "output_type": "execute_result",
          "data": {
            "text/plain": "<POLYGON ((2 1, 2 0.5, 1 0.5, 1 1, 2 1))>",
            "image/svg+xml": "<svg xmlns=\"http://www.w3.org/2000/svg\" xmlns:xlink=\"http://www.w3.org/1999/xlink\" width=\"100.0\" height=\"100.0\" viewBox=\"0.96 0.46 1.08 0.5800000000000001\" preserveAspectRatio=\"xMinYMin meet\"><g transform=\"matrix(1,0,0,-1,0,1.5)\"><path fill-rule=\"evenodd\" fill=\"#66cc99\" stroke=\"#555555\" stroke-width=\"0.0216\" opacity=\"0.6\" d=\"M 2.0,1.0 L 2.0,0.5 L 1.0,0.5 L 1.0,1.0 L 2.0,1.0 z\" /></g></svg>"
          },
          "metadata": {}
        }
      ],
      "execution_count": 78
    },
    {
      "cell_type": "code",
      "source": "gdf.geometry.apply(shapely.is_valid)",
      "metadata": {
        "trusted": true
      },
      "outputs": [
        {
          "execution_count": 76,
          "output_type": "execute_result",
          "data": {
            "text/plain": "0    True\n1    True\nName: geometry, dtype: bool"
          },
          "metadata": {}
        }
      ],
      "execution_count": 76
    },
    {
      "cell_type": "code",
      "source": "",
      "metadata": {
        "trusted": true
      },
      "outputs": [],
      "execution_count": null
    }
  ]
}